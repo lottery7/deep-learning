{
 "cells": [
  {
   "cell_type": "code",
   "execution_count": 65,
   "metadata": {},
   "outputs": [],
   "source": [
    "import numpy as np\n",
    "# import sys\n",
    "from keras.datasets import mnist"
   ]
  },
  {
   "cell_type": "code",
   "execution_count": 66,
   "metadata": {},
   "outputs": [],
   "source": [
    "ALPHA = 0.005\n",
    "HIDDEN_SIZE = 100\n",
    "PIXELS_PER_IMAGE = INPUT_SIZE = 28*28\n",
    "OUTPUT_SIZE = 10\n",
    "TRAIN_DATA_SIZE = 1000\n",
    "LAYERS_TOTAL = 3\n",
    "BATCH_SIZE = 100"
   ]
  },
  {
   "cell_type": "code",
   "execution_count": 67,
   "metadata": {},
   "outputs": [],
   "source": [
    "(x_train, y_train), (x_test, y_test) = mnist.load_data()\n",
    "\n",
    "images, labels = x_train[0:TRAIN_DATA_SIZE] / 255, y_train[0:TRAIN_DATA_SIZE]"
   ]
  },
  {
   "cell_type": "code",
   "execution_count": 68,
   "metadata": {},
   "outputs": [],
   "source": [
    "data_to_learn = images.reshape(TRAIN_DATA_SIZE, PIXELS_PER_IMAGE)\n",
    "outputs_to_learn = np.zeros((TRAIN_DATA_SIZE, OUTPUT_SIZE), dtype=np.float32)\n",
    "\n",
    "for ind, label in enumerate(labels):\n",
    "    outputs_to_learn[ind][label] = 1.0"
   ]
  },
  {
   "cell_type": "code",
   "execution_count": 69,
   "metadata": {},
   "outputs": [],
   "source": [
    "test_data = x_test.reshape(len(x_test), PIXELS_PER_IMAGE) / 255\n",
    "test_outputs = np.zeros((len(y_test), OUTPUT_SIZE))\n",
    "\n",
    "for ind, label in enumerate(y_test):\n",
    "    test_outputs[ind][label] = 1.0"
   ]
  },
  {
   "cell_type": "code",
   "execution_count": 70,
   "metadata": {},
   "outputs": [],
   "source": [
    "np.random.seed(1)\n",
    "\n",
    "weights = [\n",
    "    0.02 * np.random.rand(INPUT_SIZE, HIDDEN_SIZE) - 0.01,\n",
    "    0.2 * np.random.rand(HIDDEN_SIZE, OUTPUT_SIZE) - 0.1,\n",
    "]"
   ]
  },
  {
   "cell_type": "code",
   "execution_count": 71,
   "metadata": {},
   "outputs": [],
   "source": [
    "def relu(x):\n",
    "    return (x > 0) * x\n",
    "\n",
    "def relu_deriv(x):\n",
    "    return x > 0"
   ]
  },
  {
   "cell_type": "code",
   "execution_count": 72,
   "metadata": {},
   "outputs": [],
   "source": [
    "def nn(data, weights, dropout=False):\n",
    "    layers = [None] * LAYERS_TOTAL\n",
    "\n",
    "    layers[0] = data\n",
    "    layers[1] = relu(np.dot(layers[0], weights[0]))\n",
    "\n",
    "    if(dropout):\n",
    "        dropout_mask = np.random.randint(2, size=layers[1].shape)\n",
    "        layers[1] *= dropout_mask * 2\n",
    "        layers[2] = np.dot(layers[1], weights[1])\n",
    "        return layers, dropout_mask\n",
    "        \n",
    "    layers[2] = np.dot(layers[1], weights[1])\n",
    "    return layers\n",
    "    "
   ]
  },
  {
   "cell_type": "code",
   "execution_count": 73,
   "metadata": {},
   "outputs": [
    {
     "name": "stdout",
     "output_type": "stream",
     "text": [
      "Iteration: 10 Error: 0.87867843981461 Correct: 0.346\n",
      "\tTest-Error: 0.8671974340846704 \tTest-Acc: 0.5051\n",
      "Iteration: 20 Error: 0.8066977801104327 Correct: 0.503\n",
      "\tTest-Error: 0.7942635485074726 \tTest-Acc: 0.6468\n",
      "Iteration: 30 Error: 0.7579967602924296 Correct: 0.594\n",
      "\tTest-Error: 0.738831406489273 \tTest-Acc: 0.6894\n",
      "Iteration: 40 Error: 0.7088269688667319 Correct: 0.655\n",
      "\tTest-Error: 0.6956985241774137 \tTest-Acc: 0.7123\n",
      "Iteration: 50 Error: 0.6801481136439175 Correct: 0.669\n",
      "\tTest-Error: 0.6616547910913744 \tTest-Acc: 0.7256\n",
      "Iteration: 60 Error: 0.6479291840912572 Correct: 0.705\n",
      "\tTest-Error: 0.634123657800836 \tTest-Acc: 0.7332\n",
      "Iteration: 70 Error: 0.6265475105297316 Correct: 0.737\n",
      "\tTest-Error: 0.611188900588929 \tTest-Acc: 0.7421\n",
      "Iteration: 80 Error: 0.6095449332684234 Correct: 0.748\n",
      "\tTest-Error: 0.5920241913797585 \tTest-Acc: 0.749\n",
      "Iteration: 90 Error: 0.5884739387075518 Correct: 0.749\n",
      "\tTest-Error: 0.575035093067266 \tTest-Acc: 0.7566\n",
      "Iteration: 100 Error: 0.5689132133856755 Correct: 0.774\n",
      "\tTest-Error: 0.5605157145024535 \tTest-Acc: 0.7616\n",
      "Iteration: 110 Error: 0.5647883804829489 Correct: 0.768\n",
      "\tTest-Error: 0.5477600587469587 \tTest-Acc: 0.7663\n",
      "Iteration: 120 Error: 0.5438083933193619 Correct: 0.784\n",
      "\tTest-Error: 0.5357828168698098 \tTest-Acc: 0.7739\n",
      "Iteration: 130 Error: 0.5382267419623895 Correct: 0.801\n",
      "\tTest-Error: 0.5254290570884989 \tTest-Acc: 0.7789\n",
      "Iteration: 140 Error: 0.5283488365073233 Correct: 0.796\n",
      "\tTest-Error: 0.5161333061941715 \tTest-Acc: 0.784\n",
      "Iteration: 150 Error: 0.5243465976172444 Correct: 0.801\n",
      "\tTest-Error: 0.5071881488514401 \tTest-Acc: 0.789\n",
      "Iteration: 160 Error: 0.5128333592054495 Correct: 0.802\n",
      "\tTest-Error: 0.4992973116365798 \tTest-Acc: 0.7933\n",
      "Iteration: 170 Error: 0.5033888606797783 Correct: 0.805\n",
      "\tTest-Error: 0.49213321950985367 \tTest-Acc: 0.7978\n",
      "Iteration: 180 Error: 0.49933593223154 Correct: 0.81\n",
      "\tTest-Error: 0.4849955998894202 \tTest-Acc: 0.8007\n",
      "Iteration: 190 Error: 0.4894269052550657 Correct: 0.819\n",
      "\tTest-Error: 0.4782556474315219 \tTest-Acc: 0.8029\n",
      "Iteration: 200 Error: 0.48379161845417346 Correct: 0.808\n",
      "\tTest-Error: 0.4721199557121001 \tTest-Acc: 0.8068\n",
      "Iteration: 210 Error: 0.47989737715848396 Correct: 0.833\n",
      "\tTest-Error: 0.4664918843639176 \tTest-Acc: 0.8076\n",
      "Iteration: 220 Error: 0.47076469997537607 Correct: 0.843\n",
      "\tTest-Error: 0.46118336190372394 \tTest-Acc: 0.8104\n",
      "Iteration: 230 Error: 0.4621377580245954 Correct: 0.836\n",
      "\tTest-Error: 0.45570559619487094 \tTest-Acc: 0.8132\n",
      "Iteration: 240 Error: 0.45749169250105837 Correct: 0.837\n",
      "\tTest-Error: 0.45079299145210205 \tTest-Acc: 0.8155\n",
      "Iteration: 250 Error: 0.4488109376587352 Correct: 0.829\n",
      "\tTest-Error: 0.4460973445231584 \tTest-Acc: 0.8173\n",
      "Iteration: 260 Error: 0.44761602903295544 Correct: 0.84\n",
      "\tTest-Error: 0.4413164183546189 \tTest-Acc: 0.8199\n",
      "Iteration: 270 Error: 0.44147317566312194 Correct: 0.856\n",
      "\tTest-Error: 0.4374249281970916 \tTest-Acc: 0.8205\n",
      "Iteration: 280 Error: 0.44209312216476826 Correct: 0.838\n",
      "\tTest-Error: 0.43320738609539355 \tTest-Acc: 0.822\n",
      "Iteration: 290 Error: 0.4315615912830095 Correct: 0.853\n",
      "\tTest-Error: 0.42929691566878475 \tTest-Acc: 0.8244\n",
      "Iteration: 300 Error: 0.43331985070321255 Correct: 0.846\n",
      "\tTest-Error: 0.42578619111549487 \tTest-Acc: 0.8253\n"
     ]
    }
   ],
   "source": [
    "for i in range(1, 301):\n",
    "    error = 0.0\n",
    "    correct_counter = 0\n",
    "\n",
    "    for j in range(TRAIN_DATA_SIZE // BATCH_SIZE):\n",
    "        batch_start, batch_end = j * BATCH_SIZE, (j + 1) * BATCH_SIZE\n",
    "        \n",
    "        # Output\n",
    "        data = data_to_learn[batch_start:batch_end]#.reshape(BATCH_SIZE, 1, INPUT_SIZE)\n",
    "        layers, dropout_mask = nn(data=data, weights=weights, dropout=True)\n",
    "        \n",
    "        # Learning\n",
    "        layer_deltas = [None] * LAYERS_TOTAL\n",
    "        expected_output = outputs_to_learn[batch_start:batch_end]#.reshape(BATCH_SIZE, 1, OUTPUT_SIZE)\n",
    "        \n",
    "        error += np.sum((expected_output - layers[2]) ** 2)\n",
    "\n",
    "        for k in range(BATCH_SIZE):\n",
    "            correct_counter += np.argmax(expected_output[k]) == np.argmax(layers[2][k])\n",
    "\n",
    "        layer_deltas[2] = (expected_output - layers[2]) / (BATCH_SIZE)\n",
    "        layer_deltas[1] = np.dot(layer_deltas[2], weights[1].T) * relu_deriv(layers[1])\n",
    "        layer_deltas[1] *= dropout_mask\n",
    "\n",
    "        weights[1] += np.dot(layers[1].T, layer_deltas[2]) * ALPHA\n",
    "        weights[0] += np.dot(layers[0].T, layer_deltas[1]) * ALPHA\n",
    "    \n",
    "\n",
    "    if(i % 10 == 0):\n",
    "        print(\n",
    "            f\"Iteration: {i}\",\n",
    "            f\"Error: {error / TRAIN_DATA_SIZE}\",\n",
    "            f\"Correct: {correct_counter / TRAIN_DATA_SIZE}\"\n",
    "        )\n",
    "\n",
    "        error = 0\n",
    "        correct_counter = 0\n",
    "\n",
    "        for j in range(len(test_data)):\n",
    "            data = test_data[j].reshape(1, INPUT_SIZE)\n",
    "            layers = nn(data=data, weights=weights)\n",
    "\n",
    "            expected_output = test_outputs[j].reshape(1, OUTPUT_SIZE)\n",
    "\n",
    "            error += np.sum((expected_output - layers[2]) ** 2)\n",
    "            correct_counter += int(np.argmax(expected_output) == np.argmax(layers[2]))\n",
    "\n",
    "        print(\n",
    "            f\"\\tTest-Error: {error / len(test_data)}\",\n",
    "            f\"\\tTest-Acc: {correct_counter / len(test_data)}\"\n",
    "        )\n"
   ]
  }
 ],
 "metadata": {
  "kernelspec": {
   "display_name": "Python 3.7.13 ('nn')",
   "language": "python",
   "name": "python3"
  },
  "language_info": {
   "codemirror_mode": {
    "name": "ipython",
    "version": 3
   },
   "file_extension": ".py",
   "mimetype": "text/x-python",
   "name": "python",
   "nbconvert_exporter": "python",
   "pygments_lexer": "ipython3",
   "version": "3.7.13"
  },
  "orig_nbformat": 4,
  "vscode": {
   "interpreter": {
    "hash": "b243be397b004ca232554ba897cb822c69cb18e8d26499f4a19cd8366c84d8c4"
   }
  }
 },
 "nbformat": 4,
 "nbformat_minor": 2
}
